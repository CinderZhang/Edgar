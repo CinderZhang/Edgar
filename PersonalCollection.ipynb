{
 "cells": [
  {
   "cell_type": "markdown",
   "metadata": {},
   "source": [
    "# AI Paper Searching Tool\n",
    "\n",
    "* [paperai](https://github.com/neuml/paperai)\n",
    "\n",
    "# Downloading Tool\n",
    "* [Python Download Packages](https://likegeeks.com/downloading-files-using-python/)\n",
    "\n",
    "# Parse Edgar\n",
    "* [10K](https://gist.github.com/anshoomehra/ead8925ea291e233a5aa2dcaa2dc61b2)\n",
    "\n",
    "* [Mutual Fund N-CSR N-Port](https://github.com/cpackard/fundholdings)\n",
    "\n",
    "# Freelanser\n",
    "* [Fincial](https://www.freelancer.com/projects/python/parse-form-port-fillings-from/?ngsw-bypass=&w=f)\n",
    "\n",
    "\n",
    "\n",
    " "
   ]
  },
  {
   "cell_type": "code",
   "execution_count": null,
   "metadata": {},
   "outputs": [],
   "source": []
  }
 ],
 "metadata": {
  "kernelspec": {
   "display_name": "Python 3",
   "language": "python",
   "name": "python3"
  },
  "language_info": {
   "codemirror_mode": {
    "name": "ipython",
    "version": 3
   },
   "file_extension": ".py",
   "mimetype": "text/x-python",
   "name": "python",
   "nbconvert_exporter": "python",
   "pygments_lexer": "ipython3",
   "version": "3.8.5"
  }
 },
 "nbformat": 4,
 "nbformat_minor": 2
}