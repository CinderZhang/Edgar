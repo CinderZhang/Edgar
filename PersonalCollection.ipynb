{
 "cells": [
  {
   "cell_type": "markdown",
   "metadata": {},
   "source": [
    "# [SEC research guide](https://www.sec.gov/oiea/Article/edgarguide.html)\n",
    "\n",
    "# [FAJ Search Results](https://www.cfainstitute.org/en/search#q=edgar&first=10&sort=relevancy)\n",
    "\n",
    "# Related Research\n",
    "\n",
    "* [Are Professional Investors Prone to Behavioral Biases? Evidence from Mutual Fund Managers](https://papers.ssrn.com/sol3/papers.cfm?abstract_id=3462776)\n",
    "* [Analyst Information Acquisition via EDGAR](https://pubsonline.informs.org/doi/abs/10.1287/mnsc.2019.3465)\n",
    "* [IQ from IP: Simplifying search in portfolio choice](https://www.sciencedirect.com/science/article/pii/S0304405X20301318?casa_token=_-tryZfQ0e8AAAAA:EosT0zm6ANqz4dzxSYqyq3kulPYdZibPNd86mPGAbcFOneoP0fNb4CJXlX3wujer8NFfgi-SNynv)\n",
    "* [How Do Firms Change Investments Based on MD&A Disclosures of Peer Firms?](https://meridian.allenpress.com/accounting-review/article-abstract/96/2/177/436228/How-Do-Firms-Change-Investments-Based-on-MD-amp-A)\n",
    "* [Information acquisition and expected returns: Evidence from EDGAR search traffic](https://www.sciencedirect.com/science/article/pii/S0165188922000884?casa_token=LBS4gyDqY_IAAAAA:HODDFnoIUT4N6QMP2KAcsCW53fVOx4y7t1V9rDKGipki0BNiKBjBxpw2nlXpNRNLMDR-xpxlxrhm)\n"
   ]
  },
  {
   "cell_type": "markdown",
   "metadata": {},
   "source": [
    "# AI Paper Searching Tool\n",
    "\n",
    "* [paperai](https://github.com/neuml/paperai)\n",
    "\n",
    "# Downloading Tool\n",
    "* [Python Download Packages](https://likegeeks.com/downloading-files-using-python/)\n",
    "\n",
    "# Parse Edgar\n",
    "* [10K](https://gist.github.com/anshoomehra/ead8925ea291e233a5aa2dcaa2dc61b2)\n",
    "\n",
    "* [Mutual Fund N-CSR N-Port](https://github.com/cpackard/fundholdings)\n",
    "\n",
    "# Freelanser\n",
    "* [Fincial](https://www.freelancer.com/projects/python/parse-form-port-fillings-from/?ngsw-bypass=&w=f)\n",
    "\n",
    "\n",
    "\n",
    " "
   ]
  },
  {
   "cell_type": "markdown",
   "metadata": {},
   "source": []
  },
  {
   "cell_type": "code",
   "execution_count": null,
   "metadata": {},
   "outputs": [],
   "source": []
  }
 ],
 "metadata": {
  "kernelspec": {
   "display_name": "Python 3",
   "language": "python",
   "name": "python3"
  },
  "language_info": {
   "codemirror_mode": {
    "name": "ipython",
    "version": 3
   },
   "file_extension": ".py",
   "mimetype": "text/x-python",
   "name": "python",
   "nbconvert_exporter": "python",
   "pygments_lexer": "ipython3",
   "version": "3.8.5"
  }
 },
 "nbformat": 4,
 "nbformat_minor": 2
}
