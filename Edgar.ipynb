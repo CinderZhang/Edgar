{
 "cells": [
  {
   "cell_type": "markdown",
   "metadata": {},
   "source": [
    "# Data Source\n",
    "## Edgar\n",
    "### Master index\n",
    "* [Detailed instruction](sec.gov/edgar/searchedgar/accessing-edgar-data.htm)\n",
    "* [Current Year for crawler-difference between master and crawler: *crawler shows full link*](https://www.sec.gov/Archives/edgar/full-index/crawler.idx)\n",
    "* [Historical](https://www.sec.gov/Archives/edgar/full-index/)\n",
    "\n",
    "[log file](https://www.sec.gov/dera/data/edgar-log-file-data-set.html)\n",
    "\n",
    "[Accessing Edgar Data](https://www.sec.gov/edgar/searchedgar/accessing-edgar-data.htm)\n",
    "\n",
    "[WRDS SEC Analytics Suite](https://wrds-web.wharton.upenn.edu/wrds/tools/variable.cfm?library_id=124)\n",
    "\n",
    "[Norte Dame-Linux Setting](https://sraf.nd.edu/textual-analysis/) \n",
    "\n",
    "[MIT OpenEDGAR--Cloud Setting--A great overview of Edgar system](https://law.mit.edu/pub/openedgar/release/1)\n",
    "\n",
    "* * Edgar filing plain textual\n",
    "* * textual analysis code\n",
    "\n",
    "### Packages\n",
    "* [edgar package](https://github.com/joeyism/py-edgar)\n",
    "* * [Need to download C++ development tools--Make sure to check C++ during the installation](https://visualstudio.microsoft.com/thank-you-downloading-visual-studio/?sku=BuildTools&rel=16)\n",
    "\n",
    "* [Edgar official site Developer Resources](https://www.sec.gov/developer)\n",
    "\n",
    "* [py-sec-edgar- ** A Better documented package **]\n",
    "* * [Website](https://py-sec-edgar.readthedocs.io/en/latest/)\n",
    "* * [Github link](https://github.com/ryansmccoy/py-sec-edgar)\n",
    "\n",
    "* [sec-api.io- **Cross platform package: Python, Google Sheet and HTTP**](https://sec-api.io/docs#stream-python)\n",
    "\n",
    "* University hosted\n",
    "* * [MIT OpenEDGAR--A great overview of Edgar system](https://law.mit.edu/pub/openedgar/release/1) \n",
    "* * [Norte Dame-Code and Data](https://sraf.nd.edu/textual-analysis/)\n",
    "\n",
    "### Examples\n",
    "\n",
    "* [Mutual fund NSAR-Note that CIK maps to multiple tickers](https://www.sec.gov/Archives/edgar/data/1040612/000120928620000203/0001209286-20-000203-index.htm)\n",
    "\n",
    "\n",
    "\n",
    "\n",
    "## IP Address\n",
    "\n",
    "[IP mapping-Paid Subscription](https://github.com/ipinfo/python)\n",
    "\n",
    "[Link Table-Free](https://iptoasn.com/)\n",
    "\n",
    "[Super informative article and information](https://securitytrails.com/blog/asn-lookup)\n"
   ]
  },
  {
   "cell_type": "code",
   "execution_count": 1,
   "metadata": {},
   "outputs": [],
   "source": [
    "# old fashion example\n",
    "## import Python packages\n",
    "from io import BytesIO\n",
    "import os\n",
    "from os import path\n",
    "from zipfile import ZipFile\n",
    "import pandas as pd\n",
    "import numpy as np\n",
    "import requests\n",
    "import sqlite3\n",
    "from sqlite3 import Error\n"
   ]
  },
  {
   "cell_type": "code",
   "execution_count": 2,
   "metadata": {},
   "outputs": [],
   "source": [
    "#Set up working folder\n",
    "WorkingDir=\"c:\\\\Edgar\\\\\""
   ]
  },
  {
   "cell_type": "code",
   "execution_count": 3,
   "metadata": {},
   "outputs": [
    {
     "name": "stdout",
     "output_type": "stream",
     "text": [
      "                                                 CIK  \\\n",
      "0  ----------------------------------------------...   \n",
      "1                                            1000097   \n",
      "2                                            1000184   \n",
      "3                                            1000184   \n",
      "4                                            1000184   \n",
      "\n",
      "                         Company Name Form Type  Date Filed  \\\n",
      "0                                None      None        None   \n",
      "1  KINGDON CAPITAL MANAGEMENT, L.L.C.    SC 13G  2021-01-11   \n",
      "2                              SAP SE       425  2021-01-04   \n",
      "3                              SAP SE       425  2021-01-05   \n",
      "4                              SAP SE       425  2021-01-06   \n",
      "\n",
      "                                      Filename  \n",
      "0                                         None  \n",
      "1  edgar/data/1000097/0000919574-21-000165.txt  \n",
      "2  edgar/data/1000184/0000947871-21-000001.txt  \n",
      "3  edgar/data/1000184/0000947871-21-000010.txt  \n",
      "4  edgar/data/1000184/0000947871-21-000019.txt  \n"
     ]
    }
   ],
   "source": [
    "# download the crawler.Inx from Edgar\n",
    "## 1. feed crawler.Idx URL\n",
    "master_url=\"https://www.sec.gov/Archives/edgar/full-index/master.idx\"\n",
    "master=pd.read_csv(master_url, skiprows=10, names=['CIK', 'Company Name', 'Form Type', 'Date Filed', 'Filename'], sep='|', engine='python', parse_dates=True)\n",
    "print(master.head())\n"
   ]
  },
  {
   "cell_type": "code",
   "execution_count": 5,
   "metadata": {},
   "outputs": [
    {
     "name": "stdout",
     "output_type": "stream",
     "text": [
      "       CIK                        Company Name Form Type  Date Filed  \\\n",
      "1  1000097  KINGDON CAPITAL MANAGEMENT, L.L.C.    SC 13G  2021-01-11   \n",
      "2  1000184                              SAP SE       425  2021-01-04   \n",
      "3  1000184                              SAP SE       425  2021-01-05   \n",
      "4  1000184                              SAP SE       425  2021-01-06   \n",
      "5  1000184                              SAP SE       425  2021-01-07   \n",
      "\n",
      "                                      Filename  \n",
      "1  edgar/data/1000097/0000919574-21-000165.txt  \n",
      "2  edgar/data/1000184/0000947871-21-000001.txt  \n",
      "3  edgar/data/1000184/0000947871-21-000010.txt  \n",
      "4  edgar/data/1000184/0000947871-21-000019.txt  \n",
      "5  edgar/data/1000184/0000947871-21-000037.txt  \n"
     ]
    }
   ],
   "source": [
    "## 2. take care of the error\n",
    "master = master[-master['CIK'].str.contains(\"---\")]\n",
    "print(master.head())"
   ]
  },
  {
   "cell_type": "code",
   "execution_count": 6,
   "metadata": {},
   "outputs": [],
   "source": [
    "## 3. drop rows with missing value\n",
    "master = master.dropna(axis=0,subset=['CIK','Form Type','Filename'])"
   ]
  },
  {
   "cell_type": "code",
   "execution_count": 14,
   "metadata": {},
   "outputs": [
    {
     "name": "stdout",
     "output_type": "stream",
     "text": [
      "       CIK                         Company Name Form Type  Date Filed  \\\n",
      "0   100334  AMERICAN CENTURY MUTUAL FUNDS, INC.     N-CSR  2021-01-05   \n",
      "1  1006415         HARTFORD MUTUAL FUNDS INC/CT     N-CSR  2021-01-08   \n",
      "2  1018170            HARDING LOEVNER FUNDS INC     N-CSR  2021-01-04   \n",
      "3  1018592           AB INSTITUTIONAL FUNDS INC     N-CSR  2021-01-04   \n",
      "4  1020861              SUNAMERICA SERIES, INC.     N-CSR  2021-01-07   \n",
      "\n",
      "                                      Filename  \n",
      "0   edgar/data/100334/0000100334-21-000002.txt  \n",
      "1  edgar/data/1006415/0001193125-21-005004.txt  \n",
      "2  edgar/data/1018170/0001193125-21-000604.txt  \n",
      "3  edgar/data/1018592/0001193125-21-000905.txt  \n",
      "4  edgar/data/1020861/0001104659-21-001905.txt  \n"
     ]
    }
   ],
   "source": [
    "## 3. Filter out the N-CSR... forms\n",
    "NCSR=master[master['Form Type'].str.contains(\"N-CSR\")]\n",
    "NCSR.reset_index(inplace=True,drop=True)\n",
    "print(NCSR.head())\n"
   ]
  },
  {
   "cell_type": "code",
   "execution_count": 16,
   "metadata": {},
   "outputs": [],
   "source": [
    "## 4. Save the N-CSR list file as excel\n",
    "outfile=WorkingDir+\"data\\\\NCSR.xlsx\"\n",
    "NCSR.to_excel(outfile,sheet_name='N-CSR',index=False)"
   ]
  },
  {
   "cell_type": "code",
   "execution_count": 1,
   "metadata": {},
   "outputs": [
    {
     "data": {
      "text/plain": [
       "<Element html at 0x2b234b664f0>"
      ]
     },
     "execution_count": 1,
     "metadata": {},
     "output_type": "execute_result"
    }
   ],
   "source": [
    "### Cannot install edgar package without C++...\n",
    "\n",
    "from edgar import Company\n",
    "company = Company(\"Oracle Corp\", \"0001341439\")\n",
    "tree = company.get_all_filings(filing_type = \"10-K\")\n",
    "docs = Company.get_documents(tree, no_of_documents=5)\n",
    "tree"
   ]
  },
  {
   "cell_type": "code",
   "execution_count": null,
   "metadata": {},
   "outputs": [],
   "source": []
  },
  {
   "cell_type": "code",
   "execution_count": null,
   "metadata": {},
   "outputs": [],
   "source": []
  },
  {
   "cell_type": "code",
   "execution_count": null,
   "metadata": {},
   "outputs": [],
   "source": []
  },
  {
   "cell_type": "code",
   "execution_count": 2,
   "metadata": {},
   "outputs": [
    {
     "data": {
      "text/plain": [
       "[<Element sec-document at 0x2b235f36270>,\n",
       " <Element sec-document at 0x2b234f30db0>,\n",
       " <Element sec-document at 0x2b235f36040>,\n",
       " <Element sec-document at 0x2b235f36ea0>,\n",
       " <Element sec-document at 0x2b235f36d10>]"
      ]
     },
     "execution_count": 2,
     "metadata": {},
     "output_type": "execute_result"
    }
   ],
   "source": [
    "docs"
   ]
  },
  {
   "cell_type": "code",
   "execution_count": 3,
   "metadata": {},
   "outputs": [
    {
     "name": "stdout",
     "output_type": "stream",
     "text": [
      "{'total': {'value': 3, 'relation': 'eq'}, 'query': {'from': 0, 'size': 10}, 'filings': [{'id': '27314e16c5f49a0343de718dd7e55cac', 'accessionNo': '0001628280-16-017809', 'cik': '320193', 'ticker': 'AAPL', 'companyName': 'APPLE INC', 'companyNameLong': 'APPLE INC (Filer)', 'formType': '10-Q', 'description': 'Form 10-Q - Quarterly report [Sections 13 or 15(d)]', 'filedAt': '2016-07-27T16:32:36-04:00', 'linkToTxt': 'https://www.sec.gov/Archives/edgar/data/320193/000162828016017809/0001628280-16-017809.txt', 'linkToHtml': 'https://www.sec.gov/Archives/edgar/data/320193/0001628280-16-017809-index.htm', 'linkToXbrl': '', 'linkToFilingDetails': 'https://www.sec.gov/Archives/edgar/data/320193/000162828016017809/a10-qq320166252016.htm', 'entities': [{'companyName': 'APPLE INC (Filer)', 'cik': '0000320193', 'irsNo': '942404110', 'stateOfIncorporation': 'CA', 'fiscalYearEnd': '0924', 'type': '10-Q', 'act': '34', 'fileNo': '001-36743', 'filmNo': '161787078', 'sic': '3571 Electronic Computers'}], 'documentFormatFiles': [{'sequence': '1', 'description': '10-Q', 'documentUrl': 'https://www.sec.gov/Archives/edgar/data/320193/000162828016017809/a10-qq320166252016.htm', 'type': '10-Q', 'size': '1685373'}, {'sequence': '2', 'description': 'EXHIBIT 31.1', 'documentUrl': 'https://www.sec.gov/Archives/edgar/data/320193/000162828016017809/a10-qexhibit3116252016.htm', 'type': 'EX-31.1', 'size': '16411'}, {'sequence': '3', 'description': 'EXHIBIT 31.2', 'documentUrl': 'https://www.sec.gov/Archives/edgar/data/320193/000162828016017809/a10-qexhibit3126252016.htm', 'type': 'EX-31.2', 'size': '17539'}, {'sequence': '4', 'description': 'EXHIBIT 32.1', 'documentUrl': 'https://www.sec.gov/Archives/edgar/data/320193/000162828016017809/a10-qexhibit3216252016.htm', 'type': 'EX-32.1', 'size': '17746'}, {'sequence': '11', 'documentUrl': 'https://www.sec.gov/Archives/edgar/data/320193/000162828016017809/g66145g66h98.jpg', 'type': 'GRAPHIC', 'size': '10963'}, {'sequence': '\\xa0', 'description': 'Complete submission text file', 'documentUrl': 'https://www.sec.gov/Archives/edgar/data/320193/000162828016017809/0001628280-16-017809.txt', 'type': '\\xa0', 'size': '9797615'}], 'dataFiles': [{'sequence': '5', 'description': 'XBRL INSTANCE DOCUMENT', 'documentUrl': 'https://www.sec.gov/Archives/edgar/data/320193/000162828016017809/aapl-20160625.xml', 'type': 'EX-101.INS', 'size': '2852642'}, {'sequence': '6', 'description': 'XBRL TAXONOMY EXTENSION SCHEMA DOCUMENT', 'documentUrl': 'https://www.sec.gov/Archives/edgar/data/320193/000162828016017809/aapl-20160625.xsd', 'type': 'EX-101.SCH', 'size': '52341'}, {'sequence': '7', 'description': 'XBRL TAXONOMY EXTENSION CALCULATION LINKBASE DOCUMENT', 'documentUrl': 'https://www.sec.gov/Archives/edgar/data/320193/000162828016017809/aapl-20160625_cal.xml', 'type': 'EX-101.CAL', 'size': '86082'}, {'sequence': '8', 'description': 'XBRL TAXONOMY EXTENSION DEFINITION LINKBASE DOCUMENT', 'documentUrl': 'https://www.sec.gov/Archives/edgar/data/320193/000162828016017809/aapl-20160625_def.xml', 'type': 'EX-101.DEF', 'size': '277517'}, {'sequence': '9', 'description': 'XBRL TAXONOMY EXTENSION LABEL LINKBASE DOCUMENT', 'documentUrl': 'https://www.sec.gov/Archives/edgar/data/320193/000162828016017809/aapl-20160625_lab.xml', 'type': 'EX-101.LAB', 'size': '684013'}, {'sequence': '10', 'description': 'XBRL TAXONOMY EXTENSION PRESENTATION LINKBASE DOCUMENT', 'documentUrl': 'https://www.sec.gov/Archives/edgar/data/320193/000162828016017809/aapl-20160625_pre.xml', 'type': 'EX-101.PRE', 'size': '393675'}], 'seriesAndClassesContractsInformation': []}, {'id': '08b82df04f50eb63af660f56704f6dd3', 'accessionNo': '0001193125-16-559625', 'cik': '320193', 'ticker': 'AAPL', 'companyName': 'APPLE INC', 'companyNameLong': 'APPLE INC (Filer)', 'formType': '10-Q', 'description': 'Form 10-Q - Quarterly report [Sections 13 or 15(d)]', 'filedAt': '2016-04-27T16:32:53-04:00', 'linkToTxt': 'https://www.sec.gov/Archives/edgar/data/320193/000119312516559625/0001193125-16-559625.txt', 'linkToHtml': 'https://www.sec.gov/Archives/edgar/data/320193/0001193125-16-559625-index.htm', 'linkToXbrl': '', 'linkToFilingDetails': 'https://www.sec.gov/Archives/edgar/data/320193/000119312516559625/d165350d10q.htm', 'entities': [{'companyName': 'APPLE INC (Filer)', 'cik': '0000320193', 'irsNo': '942404110', 'stateOfIncorporation': 'CA', 'fiscalYearEnd': '0924', 'type': '10-Q', 'act': '34', 'fileNo': '001-36743', 'filmNo': '161595799', 'sic': '3571 Electronic Computers'}], 'documentFormatFiles': [{'sequence': '1', 'description': '10-Q', 'documentUrl': 'https://www.sec.gov/Archives/edgar/data/320193/000119312516559625/d165350d10q.htm', 'type': '10-Q', 'size': '800798'}, {'sequence': '2', 'description': 'EX-10.16', 'documentUrl': 'https://www.sec.gov/Archives/edgar/data/320193/000119312516559625/d165350dex1016.htm', 'type': 'EX-10.16', 'size': '36970'}, {'sequence': '3', 'description': 'EX-10.17', 'documentUrl': 'https://www.sec.gov/Archives/edgar/data/320193/000119312516559625/d165350dex1017.htm', 'type': 'EX-10.17', 'size': '51766'}, {'sequence': '4', 'description': 'EX-31.1', 'documentUrl': 'https://www.sec.gov/Archives/edgar/data/320193/000119312516559625/d165350dex311.htm', 'type': 'EX-31.1', 'size': '9368'}, {'sequence': '5', 'description': 'EX-31.2', 'documentUrl': 'https://www.sec.gov/Archives/edgar/data/320193/000119312516559625/d165350dex312.htm', 'type': 'EX-31.2', 'size': '9513'}, {'sequence': '6', 'description': 'EX-32.1', 'documentUrl': 'https://www.sec.gov/Archives/edgar/data/320193/000119312516559625/d165350dex321.htm', 'type': 'EX-32.1', 'size': '4546'}, {'sequence': '13', 'description': 'GRAPHIC', 'documentUrl': 'https://www.sec.gov/Archives/edgar/data/320193/000119312516559625/g165350g66h96.jpg', 'type': 'GRAPHIC', 'size': '10963'}, {'sequence': '\\xa0', 'description': 'Complete submission text file', 'documentUrl': 'https://www.sec.gov/Archives/edgar/data/320193/000119312516559625/0001193125-16-559625.txt', 'type': '\\xa0', 'size': '6290156'}], 'dataFiles': [{'sequence': '7', 'description': 'XBRL INSTANCE DOCUMENT', 'documentUrl': 'https://www.sec.gov/Archives/edgar/data/320193/000119312516559625/aapl-20160326.xml', 'type': 'EX-101.INS', 'size': '1625075'}, {'sequence': '8', 'description': 'XBRL TAXONOMY EXTENSION SCHEMA', 'documentUrl': 'https://www.sec.gov/Archives/edgar/data/320193/000119312516559625/aapl-20160326.xsd', 'type': 'EX-101.SCH', 'size': '53963'}, {'sequence': '9', 'description': 'XBRL TAXONOMY EXTENSION CALCULATION LINKBASE', 'documentUrl': 'https://www.sec.gov/Archives/edgar/data/320193/000119312516559625/aapl-20160326_cal.xml', 'type': 'EX-101.CAL', 'size': '77539'}, {'sequence': '10', 'description': 'XBRL TAXONOMY EXTENSION DEFINITION LINKBASE', 'documentUrl': 'https://www.sec.gov/Archives/edgar/data/320193/000119312516559625/aapl-20160326_def.xml', 'type': 'EX-101.DEF', 'size': '348734'}, {'sequence': '11', 'description': 'XBRL TAXONOMY EXTENSION LABEL LINKBASE', 'documentUrl': 'https://www.sec.gov/Archives/edgar/data/320193/000119312516559625/aapl-20160326_lab.xml', 'type': 'EX-101.LAB', 'size': '479666'}, {'sequence': '12', 'description': 'XBRL TAXONOMY EXTENSION PRESENTATION LINKBASE', 'documentUrl': 'https://www.sec.gov/Archives/edgar/data/320193/000119312516559625/aapl-20160326_pre.xml', 'type': 'EX-101.PRE', 'size': '407158'}], 'seriesAndClassesContractsInformation': []}, {'id': 'cfa9a7b265089c5ab24dbbd0103c8195', 'accessionNo': '0001193125-16-439878', 'cik': '320193', 'ticker': 'AAPL', 'companyName': 'APPLE INC', 'companyNameLong': 'APPLE INC (Filer)', 'formType': '10-Q', 'description': 'Form 10-Q - Quarterly report [Sections 13 or 15(d)]', 'filedAt': '2016-01-27T16:32:03-05:00', 'linkToTxt': 'https://www.sec.gov/Archives/edgar/data/320193/000119312516439878/0001193125-16-439878.txt', 'linkToHtml': 'https://www.sec.gov/Archives/edgar/data/320193/0001193125-16-439878-index.htm', 'linkToXbrl': '', 'linkToFilingDetails': 'https://www.sec.gov/Archives/edgar/data/320193/000119312516439878/d66145d10q.htm', 'entities': [{'companyName': 'APPLE INC (Filer)', 'cik': '0000320193', 'irsNo': '942404110', 'stateOfIncorporation': 'CA', 'fiscalYearEnd': '0924', 'type': '10-Q', 'act': '34', 'fileNo': '001-36743', 'filmNo': '161365395', 'sic': '3571 Electronic Computers'}], 'documentFormatFiles': [{'sequence': '1', 'description': 'FORM 10-Q', 'documentUrl': 'https://www.sec.gov/Archives/edgar/data/320193/000119312516439878/d66145d10q.htm', 'type': '10-Q', 'size': '634228'}, {'sequence': '2', 'description': 'EX-10.15', 'documentUrl': 'https://www.sec.gov/Archives/edgar/data/320193/000119312516439878/d66145dex1015.htm', 'type': 'EX-10.15', 'size': '25276'}, {'sequence': '3', 'description': 'EX-31.1', 'documentUrl': 'https://www.sec.gov/Archives/edgar/data/320193/000119312516439878/d66145dex311.htm', 'type': 'EX-31.1', 'size': '9055'}, {'sequence': '4', 'description': 'EX-31.2', 'documentUrl': 'https://www.sec.gov/Archives/edgar/data/320193/000119312516439878/d66145dex312.htm', 'type': 'EX-31.2', 'size': '9262'}, {'sequence': '5', 'description': 'EX-32.1', 'documentUrl': 'https://www.sec.gov/Archives/edgar/data/320193/000119312516439878/d66145dex321.htm', 'type': 'EX-32.1', 'size': '4818'}, {'sequence': '12', 'description': 'GRAPHIC', 'documentUrl': 'https://www.sec.gov/Archives/edgar/data/320193/000119312516439878/g66145g66h96.jpg', 'type': 'GRAPHIC', 'size': '10963'}, {'sequence': '\\xa0', 'description': 'Complete submission text file', 'documentUrl': 'https://www.sec.gov/Archives/edgar/data/320193/000119312516439878/0001193125-16-439878.txt', 'type': '\\xa0', 'size': '5367146'}], 'dataFiles': [{'sequence': '6', 'description': 'XBRL INSTANCE DOCUMENT', 'documentUrl': 'https://www.sec.gov/Archives/edgar/data/320193/000119312516439878/aapl-20151226.xml', 'type': 'EX-101.INS', 'size': '1280403'}, {'sequence': '7', 'description': 'XBRL TAXONOMY EXTENSION SCHEMA', 'documentUrl': 'https://www.sec.gov/Archives/edgar/data/320193/000119312516439878/aapl-20151226.xsd', 'type': 'EX-101.SCH', 'size': '51373'}, {'sequence': '8', 'description': 'XBRL TAXONOMY EXTENSION CALCULATION LINKBASE', 'documentUrl': 'https://www.sec.gov/Archives/edgar/data/320193/000119312516439878/aapl-20151226_cal.xml', 'type': 'EX-101.CAL', 'size': '77574'}, {'sequence': '9', 'description': 'XBRL TAXONOMY EXTENSION DEFINITION LINKBASE', 'documentUrl': 'https://www.sec.gov/Archives/edgar/data/320193/000119312516439878/aapl-20151226_def.xml', 'type': 'EX-101.DEF', 'size': '336561'}, {'sequence': '10', 'description': 'XBRL TAXONOMY EXTENSION LABEL LINKBASE', 'documentUrl': 'https://www.sec.gov/Archives/edgar/data/320193/000119312516439878/aapl-20151226_lab.xml', 'type': 'EX-101.LAB', 'size': '462145'}, {'sequence': '11', 'description': 'XBRL TAXONOMY EXTENSION PRESENTATION LINKBASE', 'documentUrl': 'https://www.sec.gov/Archives/edgar/data/320193/000119312516439878/aapl-20151226_pre.xml', 'type': 'EX-101.PRE', 'size': '393313'}], 'seriesAndClassesContractsInformation': []}]}\n"
     ]
    }
   ],
   "source": [
    "## SEC API . IO\n",
    "##########################\n",
    "# Python 3.x Example\n",
    "##########################\n",
    "\n",
    "# package used to execute HTTP POST request to the API\n",
    "import json\n",
    "import urllib.request\n",
    "\n",
    "# API Key\n",
    "TOKEN = \"4940b22a39296c21b420ebc6fadfd036c64971142eb0e2340210a1fc61ef5650\" # replace YOUR_API_KEY with the API key you got from sec-api.io after sign up\n",
    "# API endpoint\n",
    "API = \"https://api.sec-api.io?token=\" + TOKEN\n",
    "\n",
    "# define the filter parameters you want to send to the API \n",
    "payload = {\n",
    "  \"query\": { \"query_string\": { \"query\": \"cik:320193 AND filedAt:{2016-01-01 TO 2016-12-31} AND formType:\\\"10-Q\\\"\" } },\n",
    "  \"from\": \"0\",\n",
    "  \"size\": \"10\",\n",
    "  \"sort\": [{ \"filedAt\": { \"order\": \"desc\" } }]\n",
    "}\n",
    "\n",
    "# format your payload to JSON bytes\n",
    "jsondata = json.dumps(payload)\n",
    "jsondataasbytes = jsondata.encode('utf-8')   # needs to be bytes\n",
    "\n",
    "# instantiate the request \n",
    "req = urllib.request.Request(API)\n",
    "\n",
    "# set the correct HTTP header: Content-Type = application/json\n",
    "req.add_header('Content-Type', 'application/json; charset=utf-8')\n",
    "# set the correct length of your request\n",
    "req.add_header('Content-Length', len(jsondataasbytes))\n",
    "\n",
    "# send the request to the API\n",
    "response = urllib.request.urlopen(req, jsondataasbytes)\n",
    "\n",
    "# read the response \n",
    "res_body = response.read()\n",
    "# transform the response into JSON\n",
    "filings = json.loads(res_body.decode(\"utf-8\"))\n",
    "\n",
    "# print JSON \n",
    "print(filings)"
   ]
  },
  {
   "cell_type": "code",
   "execution_count": null,
   "metadata": {},
   "outputs": [],
   "source": []
  }
 ],
 "metadata": {
  "kernelspec": {
   "display_name": "Python 3",
   "language": "python",
   "name": "python3"
  },
  "language_info": {
   "codemirror_mode": {
    "name": "ipython",
    "version": 3
   },
   "file_extension": ".py",
   "mimetype": "text/x-python",
   "name": "python",
   "nbconvert_exporter": "python",
   "pygments_lexer": "ipython3",
   "version": "3.8.5"
  }
 },
 "nbformat": 4,
 "nbformat_minor": 4
}
