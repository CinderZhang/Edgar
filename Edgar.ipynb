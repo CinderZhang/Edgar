{
 "cells": [
  {
   "cell_type": "markdown",
   "metadata": {},
   "source": [
    "# Data Source\n",
    "[log file](https://www.sec.gov/dera/data/edgar-log-file-data-set.html)\n",
    "# Packages\n",
    "[edgar package](https://github.com/joeyism/py-edgar)\n",
    "\n",
    "[sec-api.io](https://sec-api.io/docs#stream-python)\n"
   ]
  },
  {
   "cell_type": "code",
   "execution_count": 1,
   "metadata": {},
   "outputs": [],
   "source": [
    "from edgar import Company\n",
    "company = Company(\"Oracle Corp\", \"0001341439\")\n",
    "tree = company.get_all_filings(filing_type = \"10-K\")\n",
    "docs = Company.get_documents(tree, no_of_documents=5)"
   ]
  },
  {
   "cell_type": "code",
   "execution_count": 4,
   "metadata": {},
   "outputs": [
    {
     "data": {
      "text/plain": [
       "<Element html at 0x1aa73aecea0>"
      ]
     },
     "execution_count": 4,
     "metadata": {},
     "output_type": "execute_result"
    }
   ],
   "source": [
    "tree\n"
   ]
  },
  {
   "cell_type": "code",
   "execution_count": 3,
   "metadata": {},
   "outputs": [
    {
     "data": {
      "text/plain": [
       "[<Element sec-document at 0x1aa73b13400>,\n",
       " <Element sec-document at 0x1aa73b133b0>,\n",
       " <Element sec-document at 0x1aa73b13ae0>,\n",
       " <Element sec-document at 0x1aa73b132c0>,\n",
       " <Element sec-document at 0x1aa73b138b0>]"
      ]
     },
     "execution_count": 3,
     "metadata": {},
     "output_type": "execute_result"
    }
   ],
   "source": [
    "docs"
   ]
  },
  {
   "cell_type": "code",
   "execution_count": 5,
   "metadata": {},
   "outputs": [
    {
     "ename": "NameError",
     "evalue": "name 'YOUR_API_KEY' is not defined",
     "output_type": "error",
     "traceback": [
      "\u001b[1;31m---------------------------------------------------------------------------\u001b[0m",
      "\u001b[1;31mNameError\u001b[0m                                 Traceback (most recent call last)",
      "\u001b[1;32m<ipython-input-5-e936399fa35d>\u001b[0m in \u001b[0;36m<module>\u001b[1;34m\u001b[0m\n\u001b[0;32m      9\u001b[0m \u001b[1;33m\u001b[0m\u001b[0m\n\u001b[0;32m     10\u001b[0m \u001b[1;31m# API Key\u001b[0m\u001b[1;33m\u001b[0m\u001b[1;33m\u001b[0m\u001b[1;33m\u001b[0m\u001b[0m\n\u001b[1;32m---> 11\u001b[1;33m \u001b[0mTOKEN\u001b[0m \u001b[1;33m=\u001b[0m \u001b[0mYOUR_API_KEY\u001b[0m \u001b[1;31m# replace YOUR_API_KEY with the API key you got from sec-api.io after sign up\u001b[0m\u001b[1;33m\u001b[0m\u001b[1;33m\u001b[0m\u001b[0m\n\u001b[0m\u001b[0;32m     12\u001b[0m \u001b[1;31m# API endpoint\u001b[0m\u001b[1;33m\u001b[0m\u001b[1;33m\u001b[0m\u001b[1;33m\u001b[0m\u001b[0m\n\u001b[0;32m     13\u001b[0m \u001b[0mAPI\u001b[0m \u001b[1;33m=\u001b[0m \u001b[1;34m\"https://api.sec-api.io?token=\"\u001b[0m \u001b[1;33m+\u001b[0m \u001b[0mTOKEN\u001b[0m\u001b[1;33m\u001b[0m\u001b[1;33m\u001b[0m\u001b[0m\n",
      "\u001b[1;31mNameError\u001b[0m: name 'YOUR_API_KEY' is not defined"
     ]
    }
   ],
   "source": [
    "## SEC API . IO\n",
    "##########################\n",
    "# Python 3.x Example\n",
    "##########################\n",
    "\n",
    "# package used to execute HTTP POST request to the API\n",
    "import json\n",
    "import urllib.request\n",
    "\n",
    "# API Key\n",
    "TOKEN = YOUR_API_KEY # replace YOUR_API_KEY with the API key you got from sec-api.io after sign up\n",
    "# API endpoint\n",
    "API = \"https://api.sec-api.io?token=\" + TOKEN\n",
    "\n",
    "# define the filter parameters you want to send to the API \n",
    "payload = {\n",
    "  \"query\": { \"query_string\": { \"query\": \"cik:320193 AND filedAt:{2016-01-01 TO 2016-12-31} AND formType:\\\"10-Q\\\"\" } },\n",
    "  \"from\": \"0\",\n",
    "  \"size\": \"10\",\n",
    "  \"sort\": [{ \"filedAt\": { \"order\": \"desc\" } }]\n",
    "}\n",
    "\n",
    "# format your payload to JSON bytes\n",
    "jsondata = json.dumps(payload)\n",
    "jsondataasbytes = jsondata.encode('utf-8')   # needs to be bytes\n",
    "\n",
    "# instantiate the request \n",
    "req = urllib.request.Request(API)\n",
    "\n",
    "# set the correct HTTP header: Content-Type = application/json\n",
    "req.add_header('Content-Type', 'application/json; charset=utf-8')\n",
    "# set the correct length of your request\n",
    "req.add_header('Content-Length', len(jsondataasbytes))\n",
    "\n",
    "# send the request to the API\n",
    "response = urllib.request.urlopen(req, jsondataasbytes)\n",
    "\n",
    "# read the response \n",
    "res_body = response.read()\n",
    "# transform the response into JSON\n",
    "filings = json.loads(res_body.decode(\"utf-8\"))\n",
    "\n",
    "# print JSON \n",
    "print(filings)"
   ]
  },
  {
   "cell_type": "code",
   "execution_count": null,
   "metadata": {},
   "outputs": [],
   "source": []
  }
 ],
 "metadata": {
  "kernelspec": {
   "display_name": "Python 3",
   "language": "python",
   "name": "python3"
  },
  "language_info": {
   "codemirror_mode": {
    "name": "ipython",
    "version": 3
   },
   "file_extension": ".py",
   "mimetype": "text/x-python",
   "name": "python",
   "nbconvert_exporter": "python",
   "pygments_lexer": "ipython3",
   "version": "3.8.3"
  }
 },
 "nbformat": 4,
 "nbformat_minor": 4
}
